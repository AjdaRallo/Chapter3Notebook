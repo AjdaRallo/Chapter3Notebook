{
 "cells": [
  {
   "cell_type": "markdown",
   "metadata": {},
   "source": [
    "# While Loop\n",
    "* The for loop takes a collection of items and executes a block of code once for each item in the collection. \n",
    "* In contrast, the while loop runs as long as, or while, a certain condition is true."
   ]
  },
  {
   "cell_type": "markdown",
   "metadata": {},
   "source": [
    "## The while Loop in Action\n",
    "You can use a while loop to count up through a series of numbers. For\n",
    "example, the following while loop counts from 1 to 5:\n"
   ]
  },
  {
   "cell_type": "code",
   "execution_count": 1,
   "metadata": {},
   "outputs": [
    {
     "name": "stdout",
     "output_type": "stream",
     "text": [
      "1\n",
      "2\n",
      "3\n",
      "4\n",
      "5\n"
     ]
    }
   ],
   "source": [
    "# for loop to print number 1 to 5\n",
    "for i in range(1,6):\n",
    "    print(i)"
   ]
  },
  {
   "cell_type": "code",
   "execution_count": 2,
   "metadata": {},
   "outputs": [
    {
     "name": "stdout",
     "output_type": "stream",
     "text": [
      "1\n",
      "2\n",
      "3\n",
      "4\n",
      "5\n"
     ]
    }
   ],
   "source": [
    "# intialize the value\n",
    "j=1\n",
    "while j<=5:\n",
    "    print(j)\n",
    "    #increment or it will generate an infinite loop\n",
    "    j=j+1"
   ]
  },
  {
   "cell_type": "code",
   "execution_count": 3,
   "metadata": {},
   "outputs": [
    {
     "name": "stdout",
     "output_type": "stream",
     "text": [
      "10 11 12 13 14 15 16 17 18 19 20 21 22 23 24 25 26 27 28 29 30 31 32 33 34 35 36 37 38 39 40 41 42 43 44 45 46 47 48 49 50 "
     ]
    }
   ],
   "source": [
    "# print number 10 to 50 using while loop\n",
    "j=10\n",
    "while j<=50:\n",
    "    print(j, end=\" \")\n",
    "    j=j+1 # OR j+=1"
   ]
  },
  {
   "cell_type": "code",
   "execution_count": 4,
   "metadata": {},
   "outputs": [
    {
     "name": "stdout",
     "output_type": "stream",
     "text": [
      "10\n",
      "12\n",
      "14\n",
      "16\n",
      "18\n",
      "20\n",
      "22\n",
      "24\n",
      "26\n",
      "28\n",
      "30\n",
      "32\n",
      "34\n",
      "36\n",
      "38\n",
      "40\n",
      "42\n",
      "44\n",
      "46\n",
      "48\n",
      "50\n"
     ]
    }
   ],
   "source": [
    "# print even numbers 10 to 50 using while loop\n",
    "j=10\n",
    "while j<=50:\n",
    "    if j%2==0:\n",
    "        print(j)\n",
    "    j+=1"
   ]
  },
  {
   "cell_type": "markdown",
   "metadata": {},
   "source": [
    "### print for ODDs between 15 to 30 using while loop and for loop\n"
   ]
  },
  {
   "cell_type": "code",
   "execution_count": 5,
   "metadata": {},
   "outputs": [
    {
     "name": "stdout",
     "output_type": "stream",
     "text": [
      "15\n",
      "17\n",
      "19\n",
      "21\n",
      "23\n",
      "25\n",
      "27\n",
      "29\n"
     ]
    }
   ],
   "source": [
    "# method 1\n",
    "j=15\n",
    "while j<=30:\n",
    "    if j%2==1:\n",
    "        print(j)\n",
    "    j+=1"
   ]
  },
  {
   "cell_type": "code",
   "execution_count": 6,
   "metadata": {},
   "outputs": [
    {
     "name": "stdout",
     "output_type": "stream",
     "text": [
      "15 17 19 21 23 25 27 29 "
     ]
    }
   ],
   "source": [
    "# method 2\n",
    "for j in range(15,31):\n",
    "    if j%2==1:\n",
    "        print(j, end=\" \")"
   ]
  },
  {
   "cell_type": "code",
   "execution_count": 7,
   "metadata": {},
   "outputs": [
    {
     "name": "stdout",
     "output_type": "stream",
     "text": [
      "hello hello hello hello hello hello hello hello hello hello "
     ]
    }
   ],
   "source": [
    "# print 'hello' 10 times using for and while loops\n",
    "for i in range(10):\n",
    "    print(\"hello\", end=\" \")"
   ]
  },
  {
   "cell_type": "code",
   "execution_count": 8,
   "metadata": {},
   "outputs": [
    {
     "name": "stdout",
     "output_type": "stream",
     "text": [
      "10 15 20 25 30 "
     ]
    }
   ],
   "source": [
    "# for loop\n",
    "for i in range (10,31):\n",
    "    if i%5==0:\n",
    "        print(i, end=\" \")"
   ]
  },
  {
   "cell_type": "code",
   "execution_count": 1,
   "metadata": {},
   "outputs": [
    {
     "name": "stdout",
     "output_type": "stream",
     "text": [
      "10 15 20 25 30 "
     ]
    }
   ],
   "source": [
    "# while loop\n",
    "i = 10\n",
    "while i<31:\n",
    "    if i%5==0:\n",
    "        print(i, end= \" \")\n",
    "    i+=1"
   ]
  },
  {
   "cell_type": "markdown",
   "metadata": {},
   "source": [
    "## Letting the User Choose When to Quit"
   ]
  },
  {
   "cell_type": "code",
   "execution_count": 2,
   "metadata": {},
   "outputs": [
    {
     "name": "stdout",
     "output_type": "stream",
     "text": [
      "\n",
      "Tell me anything and I will repeat it back to you. Enter 'quit' to end the loophello\n",
      "The User input is:  hello\n",
      "\n",
      "Tell me anything and I will repeat it back to you. Enter 'quit' to end the loopquit\n",
      "The User input is:  quit\n"
     ]
    }
   ],
   "source": [
    "prompt=\"\\nTell me anything and I will repeat it back to you. Enter \\'quit\\' to end the loop\"\n",
    "message=\" \" # Initialize with empty string\n",
    "while message != 'quit':\n",
    "    message=input(prompt)\n",
    "    print(\"The User input is: \", message)"
   ]
  },
  {
   "cell_type": "code",
   "execution_count": null,
   "metadata": {},
   "outputs": [],
   "source": []
  },
  {
   "cell_type": "code",
   "execution_count": null,
   "metadata": {},
   "outputs": [],
   "source": []
  },
  {
   "cell_type": "markdown",
   "metadata": {},
   "source": [
    "## A Flag"
   ]
  },
  {
   "cell_type": "markdown",
   "metadata": {
    "slideshow": {
     "slide_type": "subslide"
    }
   },
   "source": [
    "### For a program that should run only as long as many conditions are true, you can define one variable that determines whether or not the entire program is active. This variable, called a `flag`, acts as a signal to the program."
   ]
  },
  {
   "cell_type": "code",
   "execution_count": 3,
   "metadata": {},
   "outputs": [
    {
     "name": "stdout",
     "output_type": "stream",
     "text": [
      "\n",
      "Tell me anything and I will repeat it back to you. Enter 'quit' to end the loophello\n",
      "hello\n",
      "\n",
      "Tell me anything and I will repeat it back to you. Enter 'quit' to end the loophello\n",
      "hello\n",
      "\n",
      "Tell me anything and I will repeat it back to you. Enter 'quit' to end the loophello\n",
      "hello\n",
      "\n",
      "Tell me anything and I will repeat it back to you. Enter 'quit' to end the loopquit\n"
     ]
    }
   ],
   "source": [
    "prompt=\"\\nTell me anything and I will repeat it back to you. Enter \\'quit\\' to end the loop\"\n",
    "# flag\n",
    "message=\" \"\n",
    "active=True\n",
    "while active:\n",
    "    message=input(prompt)\n",
    "    if message=='quit':\n",
    "        active=False # Controlled by Flag\n",
    "    else:\n",
    "        print(message)"
   ]
  },
  {
   "cell_type": "markdown",
   "metadata": {},
   "source": [
    "## Using break to Exit a Loop\n",
    "To exit a while loop immediately without running any remaining code in the\n",
    "loop, regardless of the results of any conditional test, use the break statement."
   ]
  },
  {
   "cell_type": "code",
   "execution_count": 4,
   "metadata": {},
   "outputs": [
    {
     "name": "stdout",
     "output_type": "stream",
     "text": [
      "\n",
      "Tell me some of your friends names and I will repeat it back to youjustin\n",
      "justin\n",
      "\n",
      "Tell me some of your friends names and I will repeat it back to youmax\n",
      "max\n",
      "\n",
      "Tell me some of your friends names and I will repeat it back to youjack\n",
      "jack\n",
      "\n",
      "Tell me some of your friends names and I will repeat it back to youquit\n"
     ]
    }
   ],
   "source": [
    "prompt=\"\\nTell me some of your friends names and I will repeat it back to you\"\n",
    "friends=\" \"\n",
    "active=True\n",
    "while active:\n",
    "    friends=input(prompt)\n",
    "    if friends=='quit':\n",
    "        break\n",
    "    else:\n",
    "        print(friends)\n",
    "    "
   ]
  },
  {
   "cell_type": "markdown",
   "metadata": {},
   "source": [
    "### Guess the number"
   ]
  },
  {
   "cell_type": "code",
   "execution_count": null,
   "metadata": {},
   "outputs": [],
   "source": [
    "prompt=\"\\n Guess a number between 1-10: \"\n",
    "number=0\n",
    "active= True\n",
    "while active:\n",
    "    number=int(input(prompt))\n",
    "    if number==5:\n",
    "        print(\"You Got It!!\")\n",
    "        break\n",
    "    else:\n",
    "        print(number)\n",
    "        print(\"Guess again\")"
   ]
  },
  {
   "cell_type": "markdown",
   "metadata": {},
   "source": [
    "### Guess the number with proper direction"
   ]
  },
  {
   "cell_type": "code",
   "execution_count": 1,
   "metadata": {},
   "outputs": [
    {
     "name": "stdout",
     "output_type": "stream",
     "text": [
      "\n",
      " Guess a number between 1 and 10: 11\n",
      "Not the correct type of guess, try again\n",
      "\n",
      " Guess a number between 1 and 10: 5\n",
      "You got it, Buster!\n"
     ]
    }
   ],
   "source": [
    "prompt=\"\\n Guess a number between 1 and 10: \"\n",
    "active = True\n",
    "number=0\n",
    "while active:\n",
    "    number = int(input(prompt))\n",
    "    if number==5:\n",
    "        print(\"You got it, Buster!\")\n",
    "        break\n",
    "    elif number<5:\n",
    "        print(\"Your too low , guess higher!\")\n",
    "    elif number>5 and number<10:\n",
    "        print(\"You too big, Guess lower!\")\n",
    "    else:\n",
    "        print(\"Not the correct type of guess, try again\")"
   ]
  },
  {
   "cell_type": "markdown",
   "metadata": {},
   "source": [
    "### Break with for loop"
   ]
  },
  {
   "cell_type": "code",
   "execution_count": 3,
   "metadata": {},
   "outputs": [
    {
     "name": "stdout",
     "output_type": "stream",
     "text": [
      "10 11 12 13 14 15 "
     ]
    }
   ],
   "source": [
    "# print the numbers between 10 and 30\n",
    "# break the loop at the number 15\n",
    "for i in range (10,30):\n",
    "    if i==16:\n",
    "        break\n",
    "    print(i, end=\" \")"
   ]
  },
  {
   "cell_type": "markdown",
   "metadata": {},
   "source": [
    "### Using continue in a Loop\n",
    "- Rather than breaking out of a loop entirely without executing the rest of its code, \n",
    "- you can use the continue statement to return to the beginning of the loop based on the result of a conditional test. \n",
    "- For example, consider a loop that counts from 1 to 10 but prints only the odd numbers in that range:"
   ]
  },
  {
   "cell_type": "code",
   "execution_count": 6,
   "metadata": {},
   "outputs": [
    {
     "name": "stdout",
     "output_type": "stream",
     "text": [
      "10 11 12 13 14 16 17 18 19 20 21 22 23 24 25 26 27 28 29 "
     ]
    }
   ],
   "source": [
    "# will only break at that point and then will CONTINUE afterward\n",
    "for i in range (10,30):\n",
    "    if i==15:\n",
    "        continue\n",
    "    print(i, end=\" \")"
   ]
  },
  {
   "cell_type": "code",
   "execution_count": 4,
   "metadata": {},
   "outputs": [
    {
     "name": "stdout",
     "output_type": "stream",
     "text": [
      "1 3 5 7 9 "
     ]
    }
   ],
   "source": [
    "for i in range (1,11):\n",
    "    if i%2==0:\n",
    "        continue\n",
    "    print(i, end=\" \")"
   ]
  },
  {
   "cell_type": "code",
   "execution_count": 1,
   "metadata": {},
   "outputs": [
    {
     "ename": "SyntaxError",
     "evalue": "invalid syntax (3631128230.py, line 1)",
     "output_type": "error",
     "traceback": [
      "\u001b[1;36m  Cell \u001b[1;32mIn[1], line 1\u001b[1;36m\u001b[0m\n\u001b[1;33m    i=1:\u001b[0m\n\u001b[1;37m       ^\u001b[0m\n\u001b[1;31mSyntaxError\u001b[0m\u001b[1;31m:\u001b[0m invalid syntax\n"
     ]
    }
   ],
   "source": [
    "i=1:\n",
    "    while i<11:\n",
    "        if i%2==0:\n",
    "            print(i, end=\" \")\n",
    "            continue\n",
    "    i+=10"
   ]
  },
  {
   "cell_type": "markdown",
   "metadata": {},
   "source": [
    "### consider a loop (while/for) that counts from 10 to 20 but prints only the even numbers in that range, use continue statement:"
   ]
  },
  {
   "cell_type": "code",
   "execution_count": null,
   "metadata": {},
   "outputs": [],
   "source": [
    "# Inside a while loop a 'continue' will not work. It will generate infinite loop"
   ]
  },
  {
   "cell_type": "code",
   "execution_count": null,
   "metadata": {},
   "outputs": [],
   "source": []
  },
  {
   "cell_type": "markdown",
   "metadata": {},
   "source": [
    "### Avoiding Infinite Loops"
   ]
  },
  {
   "cell_type": "code",
   "execution_count": null,
   "metadata": {},
   "outputs": [],
   "source": []
  },
  {
   "cell_type": "code",
   "execution_count": null,
   "metadata": {},
   "outputs": [],
   "source": []
  },
  {
   "cell_type": "markdown",
   "metadata": {},
   "source": [
    "### Movie Tickets: A movie theater charges different ticket prices depending on a person’s age. \n",
    "- If a person is under the age of 3, the ticket is free; if they are between 3 and 12, the ticket is 10 dollar\n",
    "- if they are over age 12, the ticket is 15 dollar. \n",
    "Write a while loop in which you ask users their age, and then tell them the cost of their movie ticket."
   ]
  },
  {
   "cell_type": "code",
   "execution_count": null,
   "metadata": {},
   "outputs": [
    {
     "name": "stdout",
     "output_type": "stream",
     "text": [
      "015\n",
      "$15 Ticket\n"
     ]
    }
   ],
   "source": [
    "age= \"\\n Enter the age, input -1 to quit: \"\n",
    "active= True\n",
    "age=0\n",
    "while active:\n",
    "    age=int(input(age))\n",
    "    if age==-1:\n",
    "        break\n",
    "    elif age<=3:\n",
    "        print(\"Free Ticket\")\n",
    "    elif age<=12:\n",
    "        print(\"$10 Ticket\")\n",
    "    else:\n",
    "        print(\"$15 Ticket\")"
   ]
  },
  {
   "cell_type": "code",
   "execution_count": null,
   "metadata": {},
   "outputs": [],
   "source": []
  },
  {
   "cell_type": "markdown",
   "metadata": {},
   "source": [
    "## Using a while Loop with Lists and Dictionaries"
   ]
  },
  {
   "cell_type": "markdown",
   "metadata": {},
   "source": [
    "### Moving Items from One List to Another"
   ]
  },
  {
   "cell_type": "code",
   "execution_count": 5,
   "metadata": {},
   "outputs": [
    {
     "name": "stdout",
     "output_type": "stream",
     "text": [
      "Ashley\n",
      "John\n",
      "Sam\n",
      "Harry\n",
      "Final list ['Ashley', 'John', 'Sam', 'Harry']\n"
     ]
    }
   ],
   "source": [
    "# Move items from one list to another\n",
    "# Name of the friends, move from friends list to peers list\n",
    "# unpack the list\n",
    "friends=['Harry', 'Sam', 'John', 'Ashley']\n",
    "peers=[]\n",
    "hold=\" \"\n",
    "while friends:\n",
    "    hold= friends.pop()\n",
    "    print(hold)\n",
    "    peers.append(hold)\n",
    "print(f\"Final list {peers}\")"
   ]
  },
  {
   "cell_type": "code",
   "execution_count": 6,
   "metadata": {},
   "outputs": [
    {
     "name": "stdout",
     "output_type": "stream",
     "text": [
      "Ashley is my peer\n",
      "John is my peer\n",
      "Sam is my peer\n",
      "Harry is my peer\n"
     ]
    }
   ],
   "source": [
    "# unpack the list\n",
    "for name in peers:\n",
    "    print(f\"{name} is my peer\")"
   ]
  },
  {
   "cell_type": "markdown",
   "metadata": {},
   "source": [
    "### Removing All Instances of Specific Values from a List"
   ]
  },
  {
   "cell_type": "code",
   "execution_count": null,
   "metadata": {},
   "outputs": [],
   "source": []
  },
  {
   "cell_type": "code",
   "execution_count": null,
   "metadata": {},
   "outputs": [],
   "source": []
  },
  {
   "cell_type": "markdown",
   "metadata": {},
   "source": [
    "### Filling a Dictionary with User Input"
   ]
  },
  {
   "cell_type": "markdown",
   "metadata": {},
   "source": [
    "### asking user to input their name as dictionary keys and their favorite food as dictionary values"
   ]
  },
  {
   "cell_type": "code",
   "execution_count": 5,
   "metadata": {},
   "outputs": [
    {
     "name": "stdout",
     "output_type": "stream",
     "text": [
      "What is your name? aj\n",
      "What is your favorite food? sushi\n",
      "{'aj': 'sushi'}\n",
      "Would you like to enter another food? (yes/no)no\n",
      "{'aj': 'sushi'}\n",
      "aj loves to eat sushi\n"
     ]
    }
   ],
   "source": [
    "response={}\n",
    "# poll is a flag\n",
    "poll=True\n",
    "while poll:\n",
    "    name= input(\"What is your name? \")\n",
    "    food=input(\"What is your favorite food? \")\n",
    "    response.update({name:food})\n",
    "    print(response)\n",
    "    repeat=input(\"Would you like to enter another food? (yes/no)\")\n",
    "    if repeat=='no':\n",
    "        poll=False\n",
    "        # break\n",
    "print(response)\n",
    "# unpqck the dictionary\n",
    "for name,food in response.items():\n",
    "    print(f\"{name} loves to eat {food}\")"
   ]
  },
  {
   "cell_type": "markdown",
   "metadata": {},
   "source": [
    "## Deli: Make a list called sandwich_orders and fill it with the names of various sandwiches. \n",
    "- Then make an empty list called finished_sandwiches. \n",
    "- Loop through the list of sandwich orders and print a message for each order, such as I made your tuna sandwich. \n",
    "- As each sandwich is made, move it to the list of finished sandwiches. \n",
    "- After all the sandwiches have been made, print a message listing each sandwich that was made."
   ]
  },
  {
   "cell_type": "code",
   "execution_count": 1,
   "metadata": {},
   "outputs": [
    {
     "name": "stdout",
     "output_type": "stream",
     "text": [
      "I made your Meat lover\n",
      "I made your Turkey Tom\n",
      "I made your Tuna Sandwich\n",
      "I made your The Pepe\n",
      "The sandwich The Pepe has been made\n",
      "The sandwich The Pepe has been made\n",
      "The sandwich Tuna Sandwich has been made\n",
      "The sandwich The Pepe has been made\n",
      "The sandwich Tuna Sandwich has been made\n",
      "The sandwich Turkey Tom has been made\n",
      "The sandwich The Pepe has been made\n",
      "The sandwich Tuna Sandwich has been made\n",
      "The sandwich Turkey Tom has been made\n",
      "The sandwich Meat lover has been made\n"
     ]
    }
   ],
   "source": [
    "sandwich_orders=[\"Meat lover\", \"Turkey Tom\", \"Tuna Sandwich\",\"The Pepe\"]\n",
    "finished_sandwiches=[]\n",
    "for wich in sandwich_orders:\n",
    "    print(f\"I made your {wich}\")\n",
    "hold=\" \"\n",
    "while sandwich_orders:\n",
    "    hold=sandwich_orders.pop()\n",
    "    finished_sandwiches.append(hold)\n",
    "    for i in finished_sandwiches:\n",
    "        print(f\"The sandwich {i} has been made\")"
   ]
  },
  {
   "cell_type": "markdown",
   "metadata": {},
   "source": [
    "### Create a grocery dictionary with 5 items and the quantity\n",
    "* key is item name\n",
    "* value is quantity"
   ]
  },
  {
   "cell_type": "code",
   "execution_count": 7,
   "metadata": {},
   "outputs": [
    {
     "name": "stdout",
     "output_type": "stream",
     "text": [
      "Enter your groceryalmonds\n",
      "Enter the amount12\n",
      "Would you like to add more items? (yes/no)yrs\n",
      "Enter your grocerysushi\n",
      "Enter the amount3\n",
      "Would you like to add more items? (yes/no)yes\n",
      "Enter your grocerymilk\n",
      "Enter the amount3\n",
      "Would you like to add more items? (yes/no)yes\n",
      "Enter your groceryfood\n",
      "Enter the amount25\n",
      "Would you like to add more items? (yes/no)no\n",
      "{'almonds': 12, 'sushi': 3, 'milk': 3, 'food': 25}\n"
     ]
    }
   ],
   "source": [
    "grocery={}\n",
    "poll=True\n",
    "while poll:\n",
    "    item=input(\"Enter your grocery\")\n",
    "    quantity=int(input(\"Enter the amount\"))\n",
    "    grocery.update ({item:quantity})\n",
    "    repeat=input(\"Would you like to add more items? (yes/no)\")\n",
    "    if repeat=='no':\n",
    "        poll=False\n",
    "print(grocery)"
   ]
  },
  {
   "cell_type": "code",
   "execution_count": 22,
   "metadata": {},
   "outputs": [
    {
     "name": "stdout",
     "output_type": "stream",
     "text": [
      "New list: ['Dog', 'Dog', 'goldfish', 'cat', 'rabbit', 'cat']\n",
      "The NEW list: ['goldfish', 'cat', 'rabbit', 'cat']\n"
     ]
    }
   ],
   "source": [
    "pets=['Dog', 'Cat', 'Dog', 'goldfish', 'cat', 'rabbit', 'cat']\n",
    "# remove cat from the list\n",
    "while 'Cat' in pets:\n",
    "    pets.remove('Cat')\n",
    "print(f\"New list: {pets}\")\n",
    "while 'Dog' in pets:\n",
    "    pets.remove('Dog')\n",
    "print(f\"The NEW list: {pets}\")"
   ]
  },
  {
   "cell_type": "markdown",
   "metadata": {},
   "source": [
    "## Write a program to print n natural number in descending order using a while loop.\n"
   ]
  },
  {
   "cell_type": "code",
   "execution_count": 8,
   "metadata": {},
   "outputs": [
    {
     "name": "stdout",
     "output_type": "stream",
     "text": [
      "Enter the value of n: 10\n",
      "10\n",
      "9\n",
      "8\n",
      "7\n",
      "6\n",
      "5\n",
      "4\n",
      "3\n",
      "2\n",
      "1\n"
     ]
    }
   ],
   "source": [
    "n=int(input(\"Enter the value of n: \"))\n",
    "# Loop will end at 0\n",
    "while n!=0:\n",
    "    print(n)\n",
    "    n=n-1"
   ]
  },
  {
   "cell_type": "markdown",
   "metadata": {},
   "source": [
    "## Factorial of a number"
   ]
  },
  {
   "cell_type": "code",
   "execution_count": 4,
   "metadata": {},
   "outputs": [
    {
     "name": "stdout",
     "output_type": "stream",
     "text": [
      "Enter a number4\n",
      "24\n"
     ]
    }
   ],
   "source": [
    "n=int(input(\"Enter a number\"))\n",
    "fact=1\n",
    "while(n):\n",
    "    fact=fact*n\n",
    "    n=n-1\n",
    "print(fact)"
   ]
  },
  {
   "cell_type": "markdown",
   "metadata": {},
   "source": [
    "## Take 10 integers from keyboard using loop and print their sum and average value on the screen"
   ]
  },
  {
   "cell_type": "code",
   "execution_count": 6,
   "metadata": {},
   "outputs": [
    {
     "name": "stdout",
     "output_type": "stream",
     "text": [
      "Enter the number: 2\n",
      "Enter the number: 3\n",
      "Enter the number: 4\n",
      "Enter the number: 5\n",
      "Enter the number: 6\n",
      "Enter the number: 7\n",
      "Enter the number: 8\n",
      "Enter the number: 9\n",
      "Enter the number: 0\n",
      "Enter the number: 1\n",
      "Sum:  45\n",
      "Average  4.5\n"
     ]
    }
   ],
   "source": [
    "sum=0\n",
    "i=1\n",
    "while i<11:\n",
    "    num=int(input(\"Enter the number: \"))\n",
    "    sum=sum+num\n",
    "    i+=1\n",
    "print(\"Sum: \", sum)\n",
    "print(\"Average \", sum/10)"
   ]
  },
  {
   "cell_type": "markdown",
   "metadata": {},
   "source": [
    "## "
   ]
  },
  {
   "attachments": {
    "image.png": {
     "image/png": "[encoded data removed]"
    }
   },
   "cell_type": "markdown",
   "metadata": {},
   "source": [
    "## Print the following patterns using loop :\n",
    "![image.png](attachment:image.png)"
   ]
  },
  {
   "cell_type": "code",
   "execution_count": null,
   "metadata": {},
   "outputs": [],
   "source": []
  },
  {
   "cell_type": "code",
   "execution_count": null,
   "metadata": {},
   "outputs": [],
   "source": []
  },
  {
   "cell_type": "markdown",
   "metadata": {},
   "source": [
    "## Write a program to display the first 7 multiples of 7.\n"
   ]
  },
  {
   "cell_type": "code",
   "execution_count": 7,
   "metadata": {},
   "outputs": [
    {
     "name": "stdout",
     "output_type": "stream",
     "text": [
      "0 7 14 21 28 35 42 49 "
     ]
    }
   ],
   "source": [
    "count=0\n",
    "for i in range (50):\n",
    "    if i%7==0:\n",
    "        print(i, end=\" \")\n",
    "        count=count+1\n",
    "        if count==8:\n",
    "            break"
   ]
  },
  {
   "cell_type": "markdown",
   "metadata": {},
   "source": [
    "## Write a program that appends the square of each number to a new list."
   ]
  },
  {
   "cell_type": "code",
   "execution_count": 8,
   "metadata": {},
   "outputs": [
    {
     "name": "stdout",
     "output_type": "stream",
     "text": [
      "The result is... [25, 100, 225, 400, 625, 900]\n"
     ]
    }
   ],
   "source": [
    "x=[5,10,15,20,25,30]\n",
    "y=[]\n",
    "for i in range(len(x)):\n",
    "    y.append(x[i]**2)\n",
    "print(\"The result is...\", y)"
   ]
  },
  {
   "cell_type": "markdown",
   "metadata": {},
   "source": [
    "## Separate positive and negative number from a list.\n",
    "x = [23,12,-4,23,-9,21,3,-45,-8]"
   ]
  },
  {
   "cell_type": "code",
   "execution_count": 10,
   "metadata": {},
   "outputs": [
    {
     "name": "stdout",
     "output_type": "stream",
     "text": [
      "Positive numbers: [23, 12, 23, 21, 3]. Negative numbers: [-4, -9, -45, -8]\n"
     ]
    }
   ],
   "source": [
    "x = [23,12,-4,23,-9,21,3,-45,-8]\n",
    "pos=[]\n",
    "neg=[]\n",
    "for i in range(len(x)):\n",
    "    if x[i]<0:\n",
    "        neg.append(x[i])\n",
    "    else:\n",
    "        pos.append(x[i])\n",
    "print(f\"Positive numbers: {pos}. Negative numbers: {neg}\")"
   ]
  }
 ],
 "metadata": {
  "celltoolbar": "Slideshow",
  "kernelspec": {
   "display_name": "Python 3 (ipykernel)",
   "language": "python",
   "name": "python3"
  },
  "language_info": {
   "codemirror_mode": {
    "name": "ipython",
    "version": 3
   },
   "file_extension": ".py",
   "mimetype": "text/x-python",
   "name": "python",
   "nbconvert_exporter": "python",
   "pygments_lexer": "ipython3",
   "version": "3.11.4"
  }
 },
 "nbformat": 4,
 "nbformat_minor": 2
}
