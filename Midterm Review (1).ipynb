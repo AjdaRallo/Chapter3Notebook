{
 "cells": [
  {
   "cell_type": "markdown",
   "id": "e809ff24",
   "metadata": {},
   "source": [
    "Create a list of 10 numbers and find out the minimum, maximum, and total (sum) of the list"
   ]
  },
  {
   "cell_type": "code",
   "execution_count": 5,
   "id": "5fd70789",
   "metadata": {},
   "outputs": [
    {
     "name": "stdout",
     "output_type": "stream",
     "text": [
      "55\n",
      "10\n",
      "1\n"
     ]
    }
   ],
   "source": [
    "numbers=[1,2,3,4,5,6,7,8,9,10]\n",
    "print(sum(numbers))\n",
    "print(max(numbers))\n",
    "print(min(numbers))\n"
   ]
  },
  {
   "cell_type": "markdown",
   "id": "051adc36",
   "metadata": {},
   "source": [
    "What is a nested If statement? Get input from a user and check whether the number is odd or not. If the number is odd it is also less than or equal to 20. If not, then print relevant information."
   ]
  },
  {
   "cell_type": "code",
   "execution_count": 8,
   "id": "031af7b4",
   "metadata": {},
   "outputs": [
    {
     "name": "stdout",
     "output_type": "stream",
     "text": [
      "Enter a number: 10\n",
      "This number 10 is even\n"
     ]
    }
   ],
   "source": [
    "number=int(input(\"Enter a number: \"))\n",
    "if number%2!=0:\n",
    "    print(f\"The number {number} is odd\")\n",
    "else:\n",
    "    print(f\"This number {number} is even\")"
   ]
  },
  {
   "cell_type": "markdown",
   "id": "7d2f98f7",
   "metadata": {},
   "source": [
    "Get a user input of an integer number and check if the given number is a multiple of 11 or not. "
   ]
  },
  {
   "cell_type": "code",
   "execution_count": 10,
   "id": "cdbbbd43",
   "metadata": {},
   "outputs": [
    {
     "name": "stdout",
     "output_type": "stream",
     "text": [
      "Enter a number: 129\n",
      "The number 129 is not divisible by 11\n"
     ]
    }
   ],
   "source": [
    "number=int(input(\"Enter a number: \"))\n",
    "if number%11==0:\n",
    "    print(f\"The number {number} is divisible by 11\")\n",
    "else:\n",
    "    print(f\"The number {number} is not divisible by 11\")"
   ]
  },
  {
   "cell_type": "markdown",
   "id": "075c3327",
   "metadata": {},
   "source": [
    "In the United States, as of 1995, a minor is generally legally defined as a person under the age of 18. Write a code to check whether a student is a minor or not where the input will be given by users."
   ]
  },
  {
   "cell_type": "code",
   "execution_count": 13,
   "id": "75da8751",
   "metadata": {},
   "outputs": [
    {
     "name": "stdout",
     "output_type": "stream",
     "text": [
      "Enter your age: 18\n",
      "You are an adult\n"
     ]
    }
   ],
   "source": [
    "age=int(input(\"Enter your age: \"))\n",
    "if age<18:\n",
    "    print(\"You are a minor, better luck next year\")\n",
    "else:\n",
    "    print(\"You are an adult\")"
   ]
  },
  {
   "cell_type": "markdown",
   "id": "b3d872f0",
   "metadata": {},
   "source": [
    "Write down a program using a for loop that prints all numbers from 1 to 15 and adds them to a list called numbers_list. "
   ]
  },
  {
   "cell_type": "code",
   "execution_count": 16,
   "id": "c81d1c4d",
   "metadata": {},
   "outputs": [
    {
     "name": "stdout",
     "output_type": "stream",
     "text": [
      "1\n",
      "2\n",
      "3\n",
      "4\n",
      "5\n",
      "6\n",
      "7\n",
      "8\n",
      "9\n",
      "10\n",
      "11\n",
      "12\n",
      "13\n",
      "14\n",
      "15\n"
     ]
    }
   ],
   "source": [
    "numbers_list=[]\n",
    "for i in range (1,16):\n",
    "    numbers_list.append(i)\n",
    "    print(i)"
   ]
  }
 ],
 "metadata": {
  "kernelspec": {
   "display_name": "Python 3 (ipykernel)",
   "language": "python",
   "name": "python3"
  },
  "language_info": {
   "codemirror_mode": {
    "name": "ipython",
    "version": 3
   },
   "file_extension": ".py",
   "mimetype": "text/x-python",
   "name": "python",
   "nbconvert_exporter": "python",
   "pygments_lexer": "ipython3",
   "version": "3.11.4"
  }
 },
 "nbformat": 4,
 "nbformat_minor": 5
}
