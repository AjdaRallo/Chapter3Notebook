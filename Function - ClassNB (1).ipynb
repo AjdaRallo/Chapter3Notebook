{
 "cells": [
  {
   "cell_type": "markdown",
   "id": "6a7941e9",
   "metadata": {},
   "source": [
    "# Chapter 8: Functions in Python"
   ]
  },
  {
   "cell_type": "markdown",
   "id": "9d8b91de",
   "metadata": {},
   "source": [
    "## Defining\n",
    "* A function is a block of code which only runs when it is called.\n",
    "\n",
    "* You can pass data, known as parameters, into a function.\n",
    "\n",
    "* A function can return data as a result."
   ]
  },
  {
   "cell_type": "markdown",
   "id": "6557ee86",
   "metadata": {},
   "source": [
    "### This is how you define a function in Python\n",
    "- def keyword\n",
    "- name of the function\n",
    "- (parameters) --> parameters can also be empty\n",
    "- body of the function"
   ]
  },
  {
   "cell_type": "code",
   "execution_count": 1,
   "id": "42cfffc8",
   "metadata": {},
   "outputs": [],
   "source": [
    "# def name_of_the_function(parameters):\n",
    "        # Function body\n",
    "def my_function():\n",
    "    print(\"Hello\")"
   ]
  },
  {
   "cell_type": "code",
   "execution_count": 3,
   "id": "779efb4c",
   "metadata": {},
   "outputs": [
    {
     "name": "stdout",
     "output_type": "stream",
     "text": [
      "Hello\n"
     ]
    }
   ],
   "source": [
    "# You must 'call' the function...\n",
    "my_function()"
   ]
  },
  {
   "cell_type": "markdown",
   "id": "5c361e5a",
   "metadata": {},
   "source": [
    "### Why we need function?"
   ]
  },
  {
   "cell_type": "code",
   "execution_count": 4,
   "id": "3501abf0",
   "metadata": {},
   "outputs": [
    {
     "name": "stdout",
     "output_type": "stream",
     "text": [
      "2001 Newburg Rd.\n"
     ]
    }
   ],
   "source": [
    "print(\"2001 Newburg Rd.\")"
   ]
  },
  {
   "cell_type": "code",
   "execution_count": 5,
   "id": "ebe88bc7",
   "metadata": {},
   "outputs": [
    {
     "name": "stdout",
     "output_type": "stream",
     "text": [
      "2001 Newburg Rd.\n"
     ]
    }
   ],
   "source": [
    "def address():\n",
    "    print(\"2001 Newburg Rd.\")\n",
    "address()"
   ]
  },
  {
   "cell_type": "markdown",
   "id": "d0f1621e",
   "metadata": {},
   "source": [
    "### Function with parameters"
   ]
  },
  {
   "cell_type": "markdown",
   "id": "08338a48",
   "metadata": {},
   "source": [
    "\n",
    "### The `return` statement: \n",
    "* Use inside a function or method to send the function’s result back to the caller. \n",
    "* A return statement consists of the `return` keyword followed by an optional return value\n",
    "\n",
    "* Three Ways to Return a Result to a Function’s Caller\n",
    "    * **`return`** followed by an expression.\n",
    "    * **`return`** without an expression implicitly returns **`None`**&mdash;represents the **absence of a value** and **evaluates to `False` in conditions**.\n",
    "    * **No `return` statement implicitly returns `None`**.\n"
   ]
  },
  {
   "cell_type": "code",
   "execution_count": 6,
   "id": "7d925d43",
   "metadata": {},
   "outputs": [],
   "source": [
    "# create a function that return square of a number\n",
    "import math\n",
    "def square(x):\n",
    "    return (math.pow(x,2))"
   ]
  },
  {
   "cell_type": "code",
   "execution_count": 11,
   "id": "b60d6e32",
   "metadata": {},
   "outputs": [
    {
     "data": {
      "text/plain": [
       "393109929.0"
      ]
     },
     "execution_count": 11,
     "metadata": {},
     "output_type": "execute_result"
    }
   ],
   "source": [
    "square(19827)"
   ]
  },
  {
   "cell_type": "code",
   "execution_count": 12,
   "id": "f5635e43",
   "metadata": {},
   "outputs": [
    {
     "data": {
      "text/plain": [
       "100.0"
      ]
     },
     "execution_count": 12,
     "metadata": {},
     "output_type": "execute_result"
    }
   ],
   "source": [
    "square(10)"
   ]
  },
  {
   "cell_type": "code",
   "execution_count": 13,
   "id": "944ec384",
   "metadata": {},
   "outputs": [],
   "source": [
    "# Cube of numbers\n",
    "import math\n",
    "def cube(x):\n",
    "    return math.pow(x,3)"
   ]
  },
  {
   "cell_type": "code",
   "execution_count": 14,
   "id": "b2e7dcce",
   "metadata": {},
   "outputs": [
    {
     "data": {
      "text/plain": [
       "125.0"
      ]
     },
     "execution_count": 14,
     "metadata": {},
     "output_type": "execute_result"
    }
   ],
   "source": [
    "cube(5)"
   ]
  },
  {
   "cell_type": "code",
   "execution_count": 16,
   "id": "c1312e2e",
   "metadata": {},
   "outputs": [],
   "source": [
    "# print(x)\n",
    "# generate name error\n",
    "# x is a local variable and only valid inside the function"
   ]
  },
  {
   "cell_type": "markdown",
   "id": "0ea073dd",
   "metadata": {},
   "source": [
    "## Our own functions for practice\n",
    "`Echo` that will act same as print"
   ]
  },
  {
   "cell_type": "code",
   "execution_count": 20,
   "id": "8b616e47",
   "metadata": {},
   "outputs": [
    {
     "data": {
      "text/plain": [
       "'Name'"
      ]
     },
     "execution_count": 20,
     "metadata": {},
     "output_type": "execute_result"
    }
   ],
   "source": [
    "def echo(data):\n",
    "    return data\n",
    "echo(\"Name\")"
   ]
  },
  {
   "cell_type": "code",
   "execution_count": 21,
   "id": "f65fdcf3",
   "metadata": {},
   "outputs": [
    {
     "data": {
      "text/plain": [
       "10"
      ]
     },
     "execution_count": 21,
     "metadata": {},
     "output_type": "execute_result"
    }
   ],
   "source": [
    "echo(10)"
   ]
  },
  {
   "cell_type": "code",
   "execution_count": 22,
   "id": "cc018c7b",
   "metadata": {},
   "outputs": [],
   "source": [
    "def echo_1(data):\n",
    "    print(data)"
   ]
  },
  {
   "cell_type": "code",
   "execution_count": 23,
   "id": "34572a42",
   "metadata": {},
   "outputs": [
    {
     "name": "stdout",
     "output_type": "stream",
     "text": [
      "23\n"
     ]
    }
   ],
   "source": [
    "echo_1(23)"
   ]
  },
  {
   "cell_type": "markdown",
   "id": "5e46b2db",
   "metadata": {},
   "source": [
    "### Practice1 Favorite Book: Write a function called favorite_book() that accepts one parameter, title. \n",
    "The function should print a message, such as One of my\n",
    "favorite books is Alice in Wonderland. Call the function, making sure to\n",
    "include a book title as an argument in the function call."
   ]
  },
  {
   "cell_type": "code",
   "execution_count": 24,
   "id": "acb00f6e",
   "metadata": {},
   "outputs": [],
   "source": [
    "def favorite_book(title):\n",
    "    print(f\"One of my favorite books is {title}\")"
   ]
  },
  {
   "cell_type": "code",
   "execution_count": 30,
   "id": "9cc3c90d",
   "metadata": {},
   "outputs": [
    {
     "name": "stdout",
     "output_type": "stream",
     "text": [
      "One of my favorite books is Alice in wonderland\n"
     ]
    }
   ],
   "source": [
    "favorite_book(f\"Alice in wonderland\")"
   ]
  },
  {
   "cell_type": "markdown",
   "id": "83d0088a",
   "metadata": {},
   "source": [
    "### Functions with Multiple Parameters\n",
    "* `calc_MPG` function that determines the MPG from miles driven and gallons used"
   ]
  },
  {
   "cell_type": "code",
   "execution_count": 28,
   "id": "a50a0c0b",
   "metadata": {},
   "outputs": [],
   "source": [
    "def calc_MPG(miles_driven, gallon_used):\n",
    "    return miles_driven/gallon_used"
   ]
  },
  {
   "cell_type": "code",
   "execution_count": 29,
   "id": "2e7d4b38",
   "metadata": {},
   "outputs": [
    {
     "name": "stdout",
     "output_type": "stream",
     "text": [
      "The MPG is: 40.0\n"
     ]
    }
   ],
   "source": [
    "print(F\"The MPG is: {calc_MPG(200, 5)}\")"
   ]
  },
  {
   "cell_type": "markdown",
   "id": "b5e05036",
   "metadata": {},
   "source": [
    "## Default Parameter\n",
    "With default parameters, you can specify a default value that will be used for the function. If you pass a parameter in for the default value, it uses that value instead. \n",
    "### def MPG(miles=200,gallon=12)"
   ]
  },
  {
   "cell_type": "code",
   "execution_count": 1,
   "id": "12309231",
   "metadata": {},
   "outputs": [
    {
     "data": {
      "text/plain": [
       "16.666666666666668"
      ]
     },
     "execution_count": 1,
     "metadata": {},
     "output_type": "execute_result"
    }
   ],
   "source": [
    "def MPG(miles=200, gallon=12):\n",
    "    return miles/gallon\n",
    "MPG()"
   ]
  },
  {
   "cell_type": "code",
   "execution_count": 2,
   "id": "899b006a",
   "metadata": {},
   "outputs": [
    {
     "data": {
      "text/plain": [
       "17.5"
      ]
     },
     "execution_count": 2,
     "metadata": {},
     "output_type": "execute_result"
    }
   ],
   "source": [
    "MPG(miles=210)"
   ]
  },
  {
   "cell_type": "code",
   "execution_count": 3,
   "id": "85334956",
   "metadata": {},
   "outputs": [
    {
     "data": {
      "text/plain": [
       "40.0"
      ]
     },
     "execution_count": 3,
     "metadata": {},
     "output_type": "execute_result"
    }
   ],
   "source": [
    "MPG(miles=600, gallon=15)"
   ]
  },
  {
   "cell_type": "markdown",
   "id": "c7f67792",
   "metadata": {},
   "source": [
    "###  Function repeat using `for` loop"
   ]
  },
  {
   "cell_type": "code",
   "execution_count": 6,
   "id": "485f3873",
   "metadata": {},
   "outputs": [],
   "source": [
    "# echo\n",
    "def repeat_echo(data, count):\n",
    "    for i in count:\n",
    "        print(data)"
   ]
  },
  {
   "cell_type": "code",
   "execution_count": 7,
   "id": "a1699662",
   "metadata": {},
   "outputs": [
    {
     "ename": "TypeError",
     "evalue": "'int' object is not iterable",
     "output_type": "error",
     "traceback": [
      "\u001b[1;31m---------------------------------------------------------------------------\u001b[0m",
      "\u001b[1;31mTypeError\u001b[0m                                 Traceback (most recent call last)",
      "Cell \u001b[1;32mIn[7], line 1\u001b[0m\n\u001b[1;32m----> 1\u001b[0m repeat_echo(\u001b[38;5;124m\"\u001b[39m\u001b[38;5;124mHello\u001b[39m\u001b[38;5;124m\"\u001b[39m, \u001b[38;5;241m10\u001b[39m)\n",
      "Cell \u001b[1;32mIn[6], line 3\u001b[0m, in \u001b[0;36mrepeat_echo\u001b[1;34m(data, count)\u001b[0m\n\u001b[0;32m      2\u001b[0m \u001b[38;5;28;01mdef\u001b[39;00m \u001b[38;5;21mrepeat_echo\u001b[39m(data, count):\n\u001b[1;32m----> 3\u001b[0m     \u001b[38;5;28;01mfor\u001b[39;00m i \u001b[38;5;129;01min\u001b[39;00m count:\n\u001b[0;32m      4\u001b[0m         \u001b[38;5;28mprint\u001b[39m(data)\n",
      "\u001b[1;31mTypeError\u001b[0m: 'int' object is not iterable"
     ]
    }
   ],
   "source": [
    "repeat_echo(\"Hello\", 10)"
   ]
  },
  {
   "cell_type": "markdown",
   "id": "b3003a72",
   "metadata": {},
   "source": [
    "## Practice: Define a function called `name` and print your name 20 times using the function"
   ]
  },
  {
   "cell_type": "code",
   "execution_count": 9,
   "id": "74ecdff8",
   "metadata": {},
   "outputs": [
    {
     "ename": "TypeError",
     "evalue": "'int' object is not iterable",
     "output_type": "error",
     "traceback": [
      "\u001b[1;31m---------------------------------------------------------------------------\u001b[0m",
      "\u001b[1;31mTypeError\u001b[0m                                 Traceback (most recent call last)",
      "Cell \u001b[1;32mIn[9], line 1\u001b[0m\n\u001b[1;32m----> 1\u001b[0m repeat_echo(\u001b[38;5;124m\"\u001b[39m\u001b[38;5;124mAJ\u001b[39m\u001b[38;5;124m\"\u001b[39m, \u001b[38;5;241m20\u001b[39m)\n",
      "Cell \u001b[1;32mIn[6], line 3\u001b[0m, in \u001b[0;36mrepeat_echo\u001b[1;34m(data, count)\u001b[0m\n\u001b[0;32m      2\u001b[0m \u001b[38;5;28;01mdef\u001b[39;00m \u001b[38;5;21mrepeat_echo\u001b[39m(data, count):\n\u001b[1;32m----> 3\u001b[0m     \u001b[38;5;28;01mfor\u001b[39;00m i \u001b[38;5;129;01min\u001b[39;00m count:\n\u001b[0;32m      4\u001b[0m         \u001b[38;5;28mprint\u001b[39m(data)\n",
      "\u001b[1;31mTypeError\u001b[0m: 'int' object is not iterable"
     ]
    }
   ],
   "source": [
    "repeat_echo(\"AJ\", 20)"
   ]
  },
  {
   "cell_type": "code",
   "execution_count": null,
   "id": "255cdef1",
   "metadata": {},
   "outputs": [],
   "source": []
  },
  {
   "cell_type": "markdown",
   "id": "c9b50f99",
   "metadata": {},
   "source": [
    "### Write a function to find maximum of three values"
   ]
  },
  {
   "cell_type": "code",
   "execution_count": null,
   "id": "cf2eba04",
   "metadata": {},
   "outputs": [],
   "source": [
    "max(10,20,45)"
   ]
  },
  {
   "cell_type": "code",
   "execution_count": 10,
   "id": "333853e2",
   "metadata": {},
   "outputs": [],
   "source": [
    "def maximum(a,b,c):\n",
    "    if a>b and a>c:\n",
    "        largest=a\n",
    "    elif b>c:\n",
    "        largest=b\n",
    "    else:\n",
    "        largest=c\n",
    "    return largest"
   ]
  },
  {
   "cell_type": "code",
   "execution_count": 11,
   "id": "b7737b3e",
   "metadata": {},
   "outputs": [
    {
     "data": {
      "text/plain": [
       "45"
      ]
     },
     "execution_count": 11,
     "metadata": {},
     "output_type": "execute_result"
    }
   ],
   "source": [
    "maximum(10,45,3)"
   ]
  },
  {
   "cell_type": "code",
   "execution_count": 12,
   "id": "34bf24e2",
   "metadata": {},
   "outputs": [
    {
     "data": {
      "text/plain": [
       "'z'"
      ]
     },
     "execution_count": 12,
     "metadata": {},
     "output_type": "execute_result"
    }
   ],
   "source": [
    "maximum(\"a\", \"B\", \"z\")"
   ]
  },
  {
   "cell_type": "code",
   "execution_count": 13,
   "id": "aa0940fa",
   "metadata": {},
   "outputs": [
    {
     "data": {
      "text/plain": [
       "'Sun'"
      ]
     },
     "execution_count": 13,
     "metadata": {},
     "output_type": "execute_result"
    }
   ],
   "source": [
    "maximum(\"Sun\", \"Moon\", \"Earth\")"
   ]
  },
  {
   "cell_type": "markdown",
   "id": "1a8c15bd",
   "metadata": {},
   "source": [
    "### Practice Example: Define `minimum` function of three values"
   ]
  },
  {
   "cell_type": "code",
   "execution_count": 14,
   "id": "4d547ad4",
   "metadata": {},
   "outputs": [],
   "source": [
    "def minimum(a,b,c):\n",
    "    if a<b and a<c:\n",
    "        smallest=a\n",
    "    elif b<c:\n",
    "        smallest=b\n",
    "    else:\n",
    "        smallest=c\n",
    "    return smallest"
   ]
  },
  {
   "cell_type": "code",
   "execution_count": 17,
   "id": "996fb196",
   "metadata": {},
   "outputs": [
    {
     "data": {
      "text/plain": [
       "10"
      ]
     },
     "execution_count": 17,
     "metadata": {},
     "output_type": "execute_result"
    }
   ],
   "source": [
    "minimum(10,12,15)"
   ]
  },
  {
   "cell_type": "markdown",
   "id": "f20ad451",
   "metadata": {},
   "source": [
    "#  Arbitrary Argument Lists\n",
    "*  **`*args`**, indicating that the function can receive any number of additional arguments. \n",
    "* The `*` before the parameter name tells Python to pack any remaining arguments into a tuple that’s passed to the `args` parameter."
   ]
  },
  {
   "cell_type": "code",
   "execution_count": 18,
   "id": "c8b8817e",
   "metadata": {},
   "outputs": [],
   "source": [
    "def get_mean(*args):\n",
    "    return sum(args)/len(args)"
   ]
  },
  {
   "cell_type": "code",
   "execution_count": 19,
   "id": "607b5195",
   "metadata": {},
   "outputs": [
    {
     "data": {
      "text/plain": [
       "45.0"
      ]
     },
     "execution_count": 19,
     "metadata": {},
     "output_type": "execute_result"
    }
   ],
   "source": [
    "get_mean(10,25,100)"
   ]
  },
  {
   "cell_type": "code",
   "execution_count": 20,
   "id": "d86a3099",
   "metadata": {},
   "outputs": [
    {
     "data": {
      "text/plain": [
       "5.0"
      ]
     },
     "execution_count": 20,
     "metadata": {},
     "output_type": "execute_result"
    }
   ],
   "source": [
    "get_mean(5,5,5)"
   ]
  },
  {
   "cell_type": "markdown",
   "id": "84b44203",
   "metadata": {},
   "source": [
    "### Arbitary Argumented list with list"
   ]
  },
  {
   "cell_type": "code",
   "execution_count": 21,
   "id": "3c6bb74b",
   "metadata": {},
   "outputs": [
    {
     "name": "stdout",
     "output_type": "stream",
     "text": [
      "[13, 29, 44, 32, 32, 19, 41, 18, 25, 43]\n"
     ]
    }
   ],
   "source": [
    "# create a random numbers list having 10 values in it of range 10-50 (incuded)\n",
    "import random\n",
    "numbers=[]\n",
    "for i in range (10):\n",
    "    x=random.randint(10,50)\n",
    "    numbers.append(x)\n",
    "print(numbers)"
   ]
  },
  {
   "cell_type": "code",
   "execution_count": 24,
   "id": "bdbadee9",
   "metadata": {},
   "outputs": [
    {
     "data": {
      "text/plain": [
       "29.6"
      ]
     },
     "execution_count": 24,
     "metadata": {},
     "output_type": "execute_result"
    }
   ],
   "source": [
    "# in order to make an argument fit in a list or tuple, just add a star\n",
    "get_mean(*numbers)"
   ]
  },
  {
   "cell_type": "markdown",
   "id": "688d1f13",
   "metadata": {},
   "source": [
    "### More about functions\n",
    "In this session we looked at the concept of `scope`, working with `random numbers`, `statictics` and using various versions of import to work with different functions in module."
   ]
  },
  {
   "cell_type": "markdown",
   "id": "d21db560",
   "metadata": {},
   "source": [
    "### Scope\n",
    "* Each identifier has a `scope` that determines where you can use it in your program.\n",
    "\n",
    "* A local variable’s identifier has **local scope**. \n",
    "\n",
    "* Identifiers defined outside any function (or class) have **global scope**—these may include functions, variables and classes."
   ]
  },
  {
   "cell_type": "markdown",
   "id": "d8e69b30",
   "metadata": {},
   "source": [
    "One thing you don't want to do is create a variable and function with the same name. The variable will \"hide\" the function and prevent you from calling it. If you execute the cell below it will throw an error."
   ]
  },
  {
   "cell_type": "code",
   "execution_count": 1,
   "id": "a646455d",
   "metadata": {},
   "outputs": [
    {
     "data": {
      "text/plain": [
       "6"
      ]
     },
     "execution_count": 1,
     "metadata": {},
     "output_type": "execute_result"
    }
   ],
   "source": [
    "x=10 # global variable (not in the function)\n",
    "def scope_of_function():\n",
    "    num=3 # Only works within a function\n",
    "    return num*2\n",
    "scope_of_function()"
   ]
  },
  {
   "cell_type": "code",
   "execution_count": 2,
   "id": "0ecc0ffd",
   "metadata": {},
   "outputs": [
    {
     "ename": "NameError",
     "evalue": "name 'num' is not defined",
     "output_type": "error",
     "traceback": [
      "\u001b[1;31m---------------------------------------------------------------------------\u001b[0m",
      "\u001b[1;31mNameError\u001b[0m                                 Traceback (most recent call last)",
      "Cell \u001b[1;32mIn[2], line 1\u001b[0m\n\u001b[1;32m----> 1\u001b[0m \u001b[38;5;28mprint\u001b[39m(num)\n",
      "\u001b[1;31mNameError\u001b[0m: name 'num' is not defined"
     ]
    }
   ],
   "source": [
    "# print(num) name error due to its 'local' scope"
   ]
  },
  {
   "cell_type": "markdown",
   "id": "1a55bc5e",
   "metadata": {},
   "source": [
    "* By default, you cannot _modify_ a global variable in a function\n",
    "* Python creates a **new local variable** when you first assign a value to a variable in a function’s block.\n",
    "* In function `try_to_modify_global`’s block, the local `x` **shadows** the global `x`, making it inaccessible in the scope of the function’s block. "
   ]
  },
  {
   "cell_type": "code",
   "execution_count": 5,
   "id": "607bd492",
   "metadata": {},
   "outputs": [
    {
     "data": {
      "text/plain": [
       "3.5"
      ]
     },
     "execution_count": 5,
     "metadata": {},
     "output_type": "execute_result"
    }
   ],
   "source": [
    "x=10 # global variable (not in the function)\n",
    "def try_to_modify_global():\n",
    "    x=3.5\n",
    "    return x\n",
    "try_to_modify_global() # in local scope"
   ]
  },
  {
   "cell_type": "code",
   "execution_count": 4,
   "id": "effcd2a9",
   "metadata": {},
   "outputs": [
    {
     "name": "stdout",
     "output_type": "stream",
     "text": [
      "10\n"
     ]
    }
   ],
   "source": [
    "print(x) # global"
   ]
  },
  {
   "cell_type": "code",
   "execution_count": null,
   "id": "e2ffbcae",
   "metadata": {},
   "outputs": [],
   "source": []
  },
  {
   "cell_type": "markdown",
   "id": "3023353c",
   "metadata": {},
   "source": [
    "* To modify a global variable in a function’s block, you must use a **`global`** statement to declare that the variable is defined in the global scope: \"modify_global\""
   ]
  },
  {
   "cell_type": "code",
   "execution_count": 10,
   "id": "ad58975d",
   "metadata": {},
   "outputs": [],
   "source": [
    "x=10 # global variable (not in the function)\n",
    "def modify_global():\n",
    "    global x\n",
    "    x=3.5\n",
    "    return x"
   ]
  },
  {
   "cell_type": "code",
   "execution_count": 11,
   "id": "c1578e44",
   "metadata": {},
   "outputs": [
    {
     "data": {
      "text/plain": [
       "3.5"
      ]
     },
     "execution_count": 11,
     "metadata": {},
     "output_type": "execute_result"
    }
   ],
   "source": [
    "modify_global()"
   ]
  },
  {
   "cell_type": "code",
   "execution_count": 12,
   "id": "71d7fead",
   "metadata": {},
   "outputs": [
    {
     "name": "stdout",
     "output_type": "stream",
     "text": [
      "3.5\n"
     ]
    }
   ],
   "source": [
    "print(x)"
   ]
  },
  {
   "cell_type": "markdown",
   "id": "109a13bb",
   "metadata": {},
   "source": [
    "## Write functions to find out Area and Perimeter of circle"
   ]
  },
  {
   "cell_type": "code",
   "execution_count": 13,
   "id": "19453914",
   "metadata": {},
   "outputs": [],
   "source": [
    "import math\n",
    "def area_circle(r):\n",
    "    return math.pi*math.pow(r,2)"
   ]
  },
  {
   "cell_type": "code",
   "execution_count": 17,
   "id": "3cc23bf3",
   "metadata": {},
   "outputs": [
    {
     "name": "stdout",
     "output_type": "stream",
     "text": [
      "The are of the circle is: 314.159\n"
     ]
    }
   ],
   "source": [
    "print(f\"The are of the circle is: {area_circle(10):.3f}\")"
   ]
  },
  {
   "cell_type": "code",
   "execution_count": 18,
   "id": "416ab6b5",
   "metadata": {},
   "outputs": [
    {
     "name": "stdout",
     "output_type": "stream",
     "text": [
      " The perimeter of the circle is: 31.416\n"
     ]
    }
   ],
   "source": [
    "\n",
    "def perimeter_circle(r):\n",
    "    return 2*math.pi*r\n",
    "print(f\" The perimeter of the circle is: {perimeter_circle(5):.3f}\")"
   ]
  },
  {
   "cell_type": "markdown",
   "id": "df6f51b1",
   "metadata": {},
   "source": [
    "## Write functions to find out Area and Perimeter of rectangle"
   ]
  },
  {
   "cell_type": "code",
   "execution_count": 20,
   "id": "d3b789f5",
   "metadata": {},
   "outputs": [
    {
     "name": "stdout",
     "output_type": "stream",
     "text": [
      "The are of the rectange is: 25.000\n"
     ]
    }
   ],
   "source": [
    "def area_rect(b,h):\n",
    "    return b*h\n",
    "print(f\"The are of the rectange is: {area_rect(5,5):.3f}\")"
   ]
  },
  {
   "cell_type": "code",
   "execution_count": 23,
   "id": "190aa5a8",
   "metadata": {},
   "outputs": [
    {
     "name": "stdout",
     "output_type": "stream",
     "text": [
      " The perimeter of the rectangle is: 20.000\n"
     ]
    }
   ],
   "source": [
    "def peri_rect(b,h):\n",
    "    return 2*(b+h)\n",
    "print(f\" The perimeter of the rectangle is: {peri_rect(5,5):.3f}\")"
   ]
  },
  {
   "cell_type": "code",
   "execution_count": null,
   "id": "1c762dc0",
   "metadata": {},
   "outputs": [],
   "source": []
  }
 ],
 "metadata": {
  "kernelspec": {
   "display_name": "Python 3 (ipykernel)",
   "language": "python",
   "name": "python3"
  },
  "language_info": {
   "codemirror_mode": {
    "name": "ipython",
    "version": 3
   },
   "file_extension": ".py",
   "mimetype": "text/x-python",
   "name": "python",
   "nbconvert_exporter": "python",
   "pygments_lexer": "ipython3",
   "version": "3.11.4"
  }
 },
 "nbformat": 4,
 "nbformat_minor": 5
}
