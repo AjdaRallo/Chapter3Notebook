{
 "cells": [
  {
   "cell_type": "markdown",
   "id": "73943399",
   "metadata": {},
   "source": [
    "# 6. Working with Dictionaries\n",
    "* A dictionary in Python is a collection of key-value pairs. \n",
    "* Each key is connected to a value, and you can use a key to access the value associated with that key.\n",
    "* A key’s value can be a number, a string, a list, or even another dictionary.\n",
    "\n",
    "* `Key` is the unique identifier to find data and the `value` is the data\n",
    "\n",
    "* A dictionary is a collection which is ordered*, changeable and does not allow duplicates.\n",
    "\n",
    "* Unlike strings, lists, and tuples, **dictionaries are not sequences** - the data are not stored in order. \n",
    "* List can be represented by [ ], Tuple can be represented by ( ), Dictionary  can be represented by { }"
   ]
  },
  {
   "cell_type": "code",
   "execution_count": 1,
   "id": "05999d3a",
   "metadata": {},
   "outputs": [
    {
     "data": {
      "text/plain": [
       "dict"
      ]
     },
     "execution_count": 1,
     "metadata": {},
     "output_type": "execute_result"
    }
   ],
   "source": [
    "# empty dictionary\n",
    "Dict={}\n",
    "type(Dict)"
   ]
  },
  {
   "cell_type": "code",
   "execution_count": 9,
   "id": "88e3e9ba",
   "metadata": {},
   "outputs": [
    {
     "data": {
      "text/plain": [
       "dict"
      ]
     },
     "execution_count": 9,
     "metadata": {},
     "output_type": "execute_result"
    }
   ],
   "source": [
    "Dict1=dict()\n",
    "type(Dict1)"
   ]
  },
  {
   "cell_type": "code",
   "execution_count": 3,
   "id": "47fd31db",
   "metadata": {},
   "outputs": [],
   "source": [
    "data={'Alabama':'Montgomery',\n",
    "      'Arizona':'Phoenix', \n",
    "      'Georgia':'Atlanta',\n",
    "      'Kentucky':'Frankfurt',\n",
    "      'Ohio':'Columbus'}"
   ]
  },
  {
   "cell_type": "code",
   "execution_count": 4,
   "id": "82c0c56d",
   "metadata": {},
   "outputs": [
    {
     "data": {
      "text/plain": [
       "{'Alabama': 'Montgomery',\n",
       " 'Arizona': 'Phoenix',\n",
       " 'Georgia': 'Atlanta',\n",
       " 'Kentucky': 'Louisville',\n",
       " 'Ohio': 'Columbus'}"
      ]
     },
     "execution_count": 4,
     "metadata": {},
     "output_type": "execute_result"
    }
   ],
   "source": [
    "data.update({'Kentucky':'Louisville'})\n",
    "data"
   ]
  },
  {
   "cell_type": "code",
   "execution_count": 5,
   "id": "a94897d6",
   "metadata": {},
   "outputs": [
    {
     "data": {
      "text/plain": [
       "{'Alabama': 'Montgomery',\n",
       " 'Arizona': 'Phoenix',\n",
       " 'Georgia': 'Atlanta',\n",
       " 'Kentucky': 'Louisville',\n",
       " 'Ohio': 'Columbus',\n",
       " 'Louisiana': 'Baton Rouge'}"
      ]
     },
     "execution_count": 5,
     "metadata": {},
     "output_type": "execute_result"
    }
   ],
   "source": [
    "# new entry\n",
    "data.update({'Louisiana':'Baton Rouge'})\n",
    "data"
   ]
  },
  {
   "cell_type": "code",
   "execution_count": 6,
   "id": "92a787ac",
   "metadata": {},
   "outputs": [
    {
     "data": {
      "text/plain": [
       "{'Alabama': 'Montgomery',\n",
       " 'Arizona': 'Phoenix',\n",
       " 'Georgia': 'Atlanta',\n",
       " 'Kentucky': 'Frankfort',\n",
       " 'Ohio': 'Columbus',\n",
       " 'Louisiana': 'Baton Rouge',\n",
       " 'Missouri': 'Jefferson City'}"
      ]
     },
     "execution_count": 6,
     "metadata": {},
     "output_type": "execute_result"
    }
   ],
   "source": [
    "data.update({'Missouri':'Jefferson City',\n",
    "             'Kentucky':'Frankfort'})\n",
    "data"
   ]
  },
  {
   "cell_type": "markdown",
   "id": "4be8c616",
   "metadata": {},
   "source": [
    "### Access `values` from a dictionary using key\n",
    "* Key and values can be any data types\n",
    "* Accessing key value not present in dictionary generated KeyError"
   ]
  },
  {
   "cell_type": "code",
   "execution_count": 13,
   "id": "aab3f949",
   "metadata": {},
   "outputs": [
    {
     "data": {
      "text/plain": [
       "'Columbus'"
      ]
     },
     "execution_count": 13,
     "metadata": {},
     "output_type": "execute_result"
    }
   ],
   "source": [
    "data['Ohio']"
   ]
  },
  {
   "cell_type": "code",
   "execution_count": 14,
   "id": "fe9e3886",
   "metadata": {},
   "outputs": [
    {
     "data": {
      "text/plain": [
       "'Atlanta'"
      ]
     },
     "execution_count": 14,
     "metadata": {},
     "output_type": "execute_result"
    }
   ],
   "source": [
    "data['Georgia']"
   ]
  },
  {
   "cell_type": "code",
   "execution_count": 15,
   "id": "c7dae653",
   "metadata": {},
   "outputs": [
    {
     "ename": "KeyError",
     "evalue": "'New york'",
     "output_type": "error",
     "traceback": [
      "\u001b[1;31m---------------------------------------------------------------------------\u001b[0m",
      "\u001b[1;31mKeyError\u001b[0m                                  Traceback (most recent call last)",
      "Cell \u001b[1;32mIn[15], line 1\u001b[0m\n\u001b[1;32m----> 1\u001b[0m data[\u001b[38;5;124m'\u001b[39m\u001b[38;5;124mNew york\u001b[39m\u001b[38;5;124m'\u001b[39m]\n",
      "\u001b[1;31mKeyError\u001b[0m: 'New york'"
     ]
    }
   ],
   "source": [
    "data['New york']"
   ]
  },
  {
   "cell_type": "markdown",
   "id": "bc6af6fc",
   "metadata": {},
   "source": [
    "### Update elements of a dictionary and add new elements"
   ]
  },
  {
   "cell_type": "code",
   "execution_count": 15,
   "id": "f62f227f",
   "metadata": {},
   "outputs": [],
   "source": [
    "day={1: 'Monday',\n",
    "    2: 'Tuesday',\n",
    "    4: ('Thursday', 'Friday'),\n",
    "    5: ['Saturday', 'Sunday']}"
   ]
  },
  {
   "cell_type": "code",
   "execution_count": 16,
   "id": "560dd19f",
   "metadata": {},
   "outputs": [
    {
     "data": {
      "text/plain": [
       "'Thursday'"
      ]
     },
     "execution_count": 16,
     "metadata": {},
     "output_type": "execute_result"
    }
   ],
   "source": [
    "# Access Thursday\n",
    "day[4][0]"
   ]
  },
  {
   "cell_type": "code",
   "execution_count": 17,
   "id": "7f07b100",
   "metadata": {},
   "outputs": [
    {
     "data": {
      "text/plain": [
       "'Sunday'"
      ]
     },
     "execution_count": 17,
     "metadata": {},
     "output_type": "execute_result"
    }
   ],
   "source": [
    "# Access Sunday\n",
    "day[5][1]"
   ]
  },
  {
   "cell_type": "code",
   "execution_count": 18,
   "id": "e30ad316",
   "metadata": {},
   "outputs": [],
   "source": [
    "day[3]='Wednesday'"
   ]
  },
  {
   "cell_type": "code",
   "execution_count": 19,
   "id": "16d7dd56",
   "metadata": {},
   "outputs": [
    {
     "data": {
      "text/plain": [
       "{1: 'Monday',\n",
       " 2: 'Tuesday',\n",
       " 4: ('Thursday', 'Friday'),\n",
       " 5: ['Saturday', 'Sunday'],\n",
       " 3: 'Wednesday'}"
      ]
     },
     "execution_count": 19,
     "metadata": {},
     "output_type": "execute_result"
    }
   ],
   "source": [
    "day"
   ]
  },
  {
   "cell_type": "code",
   "execution_count": 20,
   "id": "071c6f12",
   "metadata": {},
   "outputs": [
    {
     "data": {
      "text/plain": [
       "{1: 'Monday',\n",
       " 2: 'Tuesday',\n",
       " 4: ('Thursday', 'Friday'),\n",
       " 5: ['Holiday', 'Sunday'],\n",
       " 3: 'Wednesday'}"
      ]
     },
     "execution_count": 20,
     "metadata": {},
     "output_type": "execute_result"
    }
   ],
   "source": [
    "# update Saturday to a holiday\n",
    "day[5][0]='Holiday'\n",
    "day"
   ]
  },
  {
   "cell_type": "code",
   "execution_count": 21,
   "id": "10cd3add",
   "metadata": {},
   "outputs": [
    {
     "data": {
      "text/plain": [
       "{1: 'Monday',\n",
       " 2: 'Tuesday',\n",
       " 4: ('Thursday', 'Friday'),\n",
       " 5: ['Holiday', 'holiday'],\n",
       " 3: 'Wednesday'}"
      ]
     },
     "execution_count": 21,
     "metadata": {},
     "output_type": "execute_result"
    }
   ],
   "source": [
    "# Update Sunday to holiday\n",
    "day[5][1]='holiday'\n",
    "day"
   ]
  },
  {
   "cell_type": "code",
   "execution_count": 22,
   "id": "afdf81cb",
   "metadata": {},
   "outputs": [],
   "source": [
    "# Update thurday to holiday\n",
    "# day[4][0]='holiday'\n",
    "# Can NOT update a tuple"
   ]
  },
  {
   "cell_type": "markdown",
   "id": "f7bb990f",
   "metadata": {},
   "source": [
    "### `get` and `update` methods\n",
    "- get used to acces a value from dictionary\n",
    "- update the dictionary with new value also update the old value"
   ]
  },
  {
   "cell_type": "code",
   "execution_count": 23,
   "id": "c99acf1a",
   "metadata": {},
   "outputs": [],
   "source": [
    "# We want to GET wednesday\n",
    "day.get(6)"
   ]
  },
  {
   "cell_type": "code",
   "execution_count": 24,
   "id": "4c02f9de",
   "metadata": {},
   "outputs": [
    {
     "data": {
      "text/plain": [
       "'Monday'"
      ]
     },
     "execution_count": 24,
     "metadata": {},
     "output_type": "execute_result"
    }
   ],
   "source": [
    "# access monday\n",
    "day.get(1)"
   ]
  },
  {
   "cell_type": "code",
   "execution_count": 25,
   "id": "1110a303",
   "metadata": {},
   "outputs": [],
   "source": [
    "day.get(6) # does not provide error even though it isn't an element"
   ]
  },
  {
   "cell_type": "code",
   "execution_count": 26,
   "id": "0b0d959b",
   "metadata": {},
   "outputs": [],
   "source": [
    "# day(6) DOES produce an error"
   ]
  },
  {
   "cell_type": "markdown",
   "id": "18536626",
   "metadata": {},
   "source": [
    "### Delete dictionary items using `del` and `pop`"
   ]
  },
  {
   "cell_type": "code",
   "execution_count": 28,
   "id": "ebc3b904",
   "metadata": {},
   "outputs": [
    {
     "ename": "NameError",
     "evalue": "name 'data' is not defined",
     "output_type": "error",
     "traceback": [
      "\u001b[1;31m---------------------------------------------------------------------------\u001b[0m",
      "\u001b[1;31mNameError\u001b[0m                                 Traceback (most recent call last)",
      "Cell \u001b[1;32mIn[28], line 2\u001b[0m\n\u001b[0;32m      1\u001b[0m \u001b[38;5;66;03m# delete Alabama using del\u001b[39;00m\n\u001b[1;32m----> 2\u001b[0m data\u001b[38;5;241m.\u001b[39mpop(\u001b[38;5;124m'\u001b[39m\u001b[38;5;124mNew York\u001b[39m\u001b[38;5;124m'\u001b[39m)\n\u001b[0;32m      3\u001b[0m data\n",
      "\u001b[1;31mNameError\u001b[0m: name 'data' is not defined"
     ]
    }
   ],
   "source": [
    "# delete Alabama using del\n",
    "data.pop('New York')\n",
    "data"
   ]
  },
  {
   "cell_type": "code",
   "execution_count": 23,
   "id": "fc64b2ed",
   "metadata": {},
   "outputs": [
    {
     "data": {
      "text/plain": [
       "{'Arizona': 'Phoenix',\n",
       " 'Georgia': 'Atlanta',\n",
       " 'Kentucky': 'Frankfort',\n",
       " 'Knetucky': 'Louisville',\n",
       " 'Louisiana': 'Baton Rouge',\n",
       " 'Missouri': 'Jefferson City'}"
      ]
     },
     "execution_count": 23,
     "metadata": {},
     "output_type": "execute_result"
    }
   ],
   "source": [
    "# Delete using pop method\n",
    "data.pop('Ohio')\n",
    "data"
   ]
  },
  {
   "cell_type": "code",
   "execution_count": 26,
   "id": "e3993e4c",
   "metadata": {},
   "outputs": [
    {
     "ename": "NameError",
     "evalue": "name 'data' is not defined",
     "output_type": "error",
     "traceback": [
      "\u001b[1;31m---------------------------------------------------------------------------\u001b[0m",
      "\u001b[1;31mNameError\u001b[0m                                 Traceback (most recent call last)",
      "Cell \u001b[1;32mIn[26], line 2\u001b[0m\n\u001b[0;32m      1\u001b[0m \u001b[38;5;66;03m# Delete the \u001b[39;00m\n\u001b[1;32m----> 2\u001b[0m \u001b[38;5;28;01mdel\u001b[39;00m data\n\u001b[0;32m      3\u001b[0m data\n",
      "\u001b[1;31mNameError\u001b[0m: name 'data' is not defined"
     ]
    }
   ],
   "source": [
    "# Delete the \n",
    "del data\n",
    "data # name error because we deleted the dictionary"
   ]
  },
  {
   "cell_type": "markdown",
   "id": "610aae76",
   "metadata": {},
   "source": [
    "### Number of elements in the dictionary and extracting `keys()`, `values()`, `items()`"
   ]
  },
  {
   "cell_type": "code",
   "execution_count": 32,
   "id": "f13bd3ba",
   "metadata": {},
   "outputs": [
    {
     "data": {
      "text/plain": [
       "dict_keys(['Alabama', 'Arizona', 'Georgia', 'Kentucky', 'Ohio', 'Knetucky', 'Louisiana', 'Missouri'])"
      ]
     },
     "execution_count": 32,
     "metadata": {},
     "output_type": "execute_result"
    }
   ],
   "source": [
    "data.keys()"
   ]
  },
  {
   "cell_type": "code",
   "execution_count": 33,
   "id": "1d31365f",
   "metadata": {},
   "outputs": [
    {
     "data": {
      "text/plain": [
       "dict_values(['Montgomery', 'Phoenix', 'Atlanta', 'Frankfort', 'Columbus', 'Louisville', 'Baton Rouge', 'Jefferson City'])"
      ]
     },
     "execution_count": 33,
     "metadata": {},
     "output_type": "execute_result"
    }
   ],
   "source": [
    "data.values()"
   ]
  },
  {
   "cell_type": "code",
   "execution_count": 34,
   "id": "0db183c4",
   "metadata": {},
   "outputs": [
    {
     "data": {
      "text/plain": [
       "dict_items([('Alabama', 'Montgomery'), ('Arizona', 'Phoenix'), ('Georgia', 'Atlanta'), ('Kentucky', 'Frankfort'), ('Ohio', 'Columbus'), ('Knetucky', 'Louisville'), ('Louisiana', 'Baton Rouge'), ('Missouri', 'Jefferson City')])"
      ]
     },
     "execution_count": 34,
     "metadata": {},
     "output_type": "execute_result"
    }
   ],
   "source": [
    "data.items()"
   ]
  },
  {
   "cell_type": "code",
   "execution_count": null,
   "id": "a1c19204",
   "metadata": {},
   "outputs": [],
   "source": []
  },
  {
   "cell_type": "markdown",
   "id": "ab9e78f2",
   "metadata": {},
   "source": [
    "### Loop through a dictionary"
   ]
  },
  {
   "cell_type": "code",
   "execution_count": 35,
   "id": "941bf04e",
   "metadata": {},
   "outputs": [
    {
     "name": "stdout",
     "output_type": "stream",
     "text": [
      "Alabama\n",
      "<class 'str'>\n",
      "Arizona\n",
      "<class 'str'>\n",
      "Georgia\n",
      "<class 'str'>\n",
      "Kentucky\n",
      "<class 'str'>\n",
      "Ohio\n",
      "<class 'str'>\n",
      "Knetucky\n",
      "<class 'str'>\n",
      "Louisiana\n",
      "<class 'str'>\n",
      "Missouri\n",
      "<class 'str'>\n"
     ]
    }
   ],
   "source": [
    "# unpack tje dictionary keys\n",
    "for i in data.keys():\n",
    "    print(i)\n",
    "    print(type(i))"
   ]
  },
  {
   "cell_type": "code",
   "execution_count": 36,
   "id": "fe239e39",
   "metadata": {},
   "outputs": [
    {
     "name": "stdout",
     "output_type": "stream",
     "text": [
      "Montgomery\n",
      "Phoenix\n",
      "Atlanta\n",
      "Frankfort\n",
      "Columbus\n",
      "Louisville\n",
      "Baton Rouge\n",
      "Jefferson City\n"
     ]
    }
   ],
   "source": [
    "# upack the dictionary values\n",
    "for j in data.values():\n",
    "    print(j)"
   ]
  },
  {
   "cell_type": "code",
   "execution_count": 38,
   "id": "c0746d46",
   "metadata": {},
   "outputs": [
    {
     "name": "stdout",
     "output_type": "stream",
     "text": [
      "('Alabama', 'Montgomery')\n",
      "<class 'tuple'>\n",
      "('Arizona', 'Phoenix')\n",
      "<class 'tuple'>\n",
      "('Georgia', 'Atlanta')\n",
      "<class 'tuple'>\n",
      "('Kentucky', 'Frankfort')\n",
      "<class 'tuple'>\n",
      "('Ohio', 'Columbus')\n",
      "<class 'tuple'>\n",
      "('Knetucky', 'Louisville')\n",
      "<class 'tuple'>\n",
      "('Louisiana', 'Baton Rouge')\n",
      "<class 'tuple'>\n",
      "('Missouri', 'Jefferson City')\n",
      "<class 'tuple'>\n"
     ]
    }
   ],
   "source": [
    "# dictionary items\n",
    "for k in data.items():\n",
    "    print(k)\n",
    "    print(type(k))"
   ]
  },
  {
   "cell_type": "code",
   "execution_count": 39,
   "id": "e07995b1",
   "metadata": {},
   "outputs": [
    {
     "name": "stdout",
     "output_type": "stream",
     "text": [
      "state Alabama\n",
      "Capitol Montgomery\n",
      "state Arizona\n",
      "Capitol Phoenix\n",
      "state Georgia\n",
      "Capitol Atlanta\n",
      "state Kentucky\n",
      "Capitol Frankfort\n",
      "state Ohio\n",
      "Capitol Columbus\n",
      "state Knetucky\n",
      "Capitol Louisville\n",
      "state Louisiana\n",
      "Capitol Baton Rouge\n",
      "state Missouri\n",
      "Capitol Jefferson City\n"
     ]
    }
   ],
   "source": [
    "# unpack the dictionary items\n",
    "for j,k in data.items():\n",
    "    print(\"state\", j)\n",
    "    print(\"Capitol\", k)"
   ]
  },
  {
   "cell_type": "markdown",
   "id": "82ec7aff",
   "metadata": {},
   "source": [
    "### Convert dictionary to lists using `list()` function"
   ]
  },
  {
   "cell_type": "code",
   "execution_count": 40,
   "id": "afcede6e",
   "metadata": {},
   "outputs": [
    {
     "data": {
      "text/plain": [
       "{'Alabama': 'Montgomery',\n",
       " 'Arizona': 'Phoenix',\n",
       " 'Georgia': 'Atlanta',\n",
       " 'Kentucky': 'Frankfort',\n",
       " 'Ohio': 'Columbus',\n",
       " 'Knetucky': 'Louisville',\n",
       " 'Louisiana': 'Baton Rouge',\n",
       " 'Missouri': 'Jefferson City'}"
      ]
     },
     "execution_count": 40,
     "metadata": {},
     "output_type": "execute_result"
    }
   ],
   "source": [
    "data"
   ]
  },
  {
   "cell_type": "code",
   "execution_count": 43,
   "id": "b85f9771",
   "metadata": {},
   "outputs": [
    {
     "data": {
      "text/plain": [
       "['Alabama',\n",
       " 'Arizona',\n",
       " 'Georgia',\n",
       " 'Kentucky',\n",
       " 'Ohio',\n",
       " 'Knetucky',\n",
       " 'Louisiana',\n",
       " 'Missouri']"
      ]
     },
     "execution_count": 43,
     "metadata": {},
     "output_type": "execute_result"
    }
   ],
   "source": [
    "# Convert keys to list\n",
    "list(data.keys())"
   ]
  },
  {
   "cell_type": "code",
   "execution_count": 44,
   "id": "1513a1e3",
   "metadata": {},
   "outputs": [
    {
     "data": {
      "text/plain": [
       "['Montgomery',\n",
       " 'Phoenix',\n",
       " 'Atlanta',\n",
       " 'Frankfort',\n",
       " 'Columbus',\n",
       " 'Louisville',\n",
       " 'Baton Rouge',\n",
       " 'Jefferson City']"
      ]
     },
     "execution_count": 44,
     "metadata": {},
     "output_type": "execute_result"
    }
   ],
   "source": [
    "# Convert values to list\n",
    "list(data.values())"
   ]
  },
  {
   "cell_type": "markdown",
   "id": "d13131c6",
   "metadata": {},
   "source": [
    "### A List in a Dictionary: How to unpack all of the entries?"
   ]
  },
  {
   "cell_type": "code",
   "execution_count": 45,
   "id": "cd81cd95",
   "metadata": {},
   "outputs": [],
   "source": [
    "fav_language={'jen':['python', 'ruby'],\n",
    "              \"sarah\":['c'],\n",
    "              'edward':['ruby', 'java'],\n",
    "              'phil':['python', 'java']\n",
    "    \n",
    "}"
   ]
  },
  {
   "cell_type": "code",
   "execution_count": 46,
   "id": "1d594da7",
   "metadata": {},
   "outputs": [
    {
     "data": {
      "text/plain": [
       "{'jen': ['python', 'ruby'],\n",
       " 'sarah': ['c'],\n",
       " 'edward': ['ruby', 'java'],\n",
       " 'phil': ['python', 'java']}"
      ]
     },
     "execution_count": 46,
     "metadata": {},
     "output_type": "execute_result"
    }
   ],
   "source": [
    "fav_language"
   ]
  },
  {
   "cell_type": "code",
   "execution_count": 51,
   "id": "e9a96ec4",
   "metadata": {},
   "outputs": [
    {
     "name": "stdout",
     "output_type": "stream",
     "text": [
      "The name is : Jen. The favourite languages are:\n",
      "\t\t\t\t\t\t python\n",
      "\t\t\t\t\t\t ruby\n",
      "The name is : Sarah. The favourite languages are:\n",
      "\t\t\t\t\t\t c\n",
      "The name is : Edward. The favourite languages are:\n",
      "\t\t\t\t\t\t ruby\n",
      "\t\t\t\t\t\t java\n",
      "The name is : Phil. The favourite languages are:\n",
      "\t\t\t\t\t\t python\n",
      "\t\t\t\t\t\t java\n"
     ]
    }
   ],
   "source": [
    "for name, subject in fav_language.items():\n",
    "    print(f\"The name is : {name.title()}. The favourite languages are:\")\n",
    "    for i in subject:\n",
    "        print(\"\\t\\t\\t\\t\\t\\t\",i)"
   ]
  },
  {
   "cell_type": "markdown",
   "id": "7543bcaf",
   "metadata": {},
   "source": [
    "###  A Dictionary in a Dictionary"
   ]
  },
  {
   "cell_type": "code",
   "execution_count": 52,
   "id": "5716262d",
   "metadata": {},
   "outputs": [],
   "source": [
    "user={'est':{\n",
    "    'first': 'albert',\n",
    "    'last': 'einstein',\n",
    "    'location':'princeton'\n",
    "},\n",
    "      'mcurie':{\n",
    "          'first':'marie',\n",
    "          'last':'curie',\n",
    "          'location':'paris'\n",
    "      }\n",
    "    \n",
    "}"
   ]
  },
  {
   "cell_type": "code",
   "execution_count": 53,
   "id": "7aaca1c4",
   "metadata": {},
   "outputs": [
    {
     "data": {
      "text/plain": [
       "{'est': {'first': 'albert', 'last': 'einstein', 'location': 'princeton'},\n",
       " 'mcurie': {'first': 'marie', 'last': 'curie', 'location': 'paris'}}"
      ]
     },
     "execution_count": 53,
     "metadata": {},
     "output_type": "execute_result"
    }
   ],
   "source": [
    "user"
   ]
  },
  {
   "cell_type": "code",
   "execution_count": 54,
   "id": "17c4e916",
   "metadata": {},
   "outputs": [
    {
     "data": {
      "text/plain": [
       "'albert'"
      ]
     },
     "execution_count": 54,
     "metadata": {},
     "output_type": "execute_result"
    }
   ],
   "source": [
    "# albert\n",
    "user['est']['first']"
   ]
  },
  {
   "cell_type": "code",
   "execution_count": 56,
   "id": "29e8c557",
   "metadata": {},
   "outputs": [
    {
     "data": {
      "text/plain": [
       "'paris'"
      ]
     },
     "execution_count": 56,
     "metadata": {},
     "output_type": "execute_result"
    }
   ],
   "source": [
    "# paris\n",
    "user['mcurie']['location']"
   ]
  },
  {
   "cell_type": "code",
   "execution_count": 58,
   "id": "9f2bda16",
   "metadata": {},
   "outputs": [
    {
     "name": "stdout",
     "output_type": "stream",
     "text": [
      "Username: est\n",
      "full name:  alberteinstein\n",
      "location:  princeton\n",
      "Username: mcurie\n",
      "full name:  mariecurie\n",
      "location:  paris\n"
     ]
    }
   ],
   "source": [
    "for username, user_info in user.items():\n",
    "    print(\"Username:\",username)\n",
    "    #print(user_info)\n",
    "    full_name=user_info['first']+user_info['last']\n",
    "    print(\"full name: \", full_name)\n",
    "    print(\"location: \", user_info['location'] )"
   ]
  },
  {
   "cell_type": "code",
   "execution_count": 49,
   "id": "604b7e09",
   "metadata": {},
   "outputs": [],
   "source": [
    "dict={\"Key\":1, \"Key\":2}"
   ]
  },
  {
   "cell_type": "code",
   "execution_count": 50,
   "id": "a9218942",
   "metadata": {},
   "outputs": [
    {
     "data": {
      "text/plain": [
       "2"
      ]
     },
     "execution_count": 50,
     "metadata": {},
     "output_type": "execute_result"
    }
   ],
   "source": [
    "dict[\"Key\"]"
   ]
  },
  {
   "cell_type": "code",
   "execution_count": null,
   "id": "5dcd4636",
   "metadata": {},
   "outputs": [],
   "source": []
  }
 ],
 "metadata": {
  "kernelspec": {
   "display_name": "Python 3 (ipykernel)",
   "language": "python",
   "name": "python3"
  },
  "language_info": {
   "codemirror_mode": {
    "name": "ipython",
    "version": 3
   },
   "file_extension": ".py",
   "mimetype": "text/x-python",
   "name": "python",
   "nbconvert_exporter": "python",
   "pygments_lexer": "ipython3",
   "version": "3.11.4"
  }
 },
 "nbformat": 4,
 "nbformat_minor": 5
}
